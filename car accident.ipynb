{
 "cells": [
  {
   "cell_type": "markdown",
   "metadata": {},
   "source": [
    "<h1>Car accident severity prediction model</h1>"
   ]
  },
  {
   "cell_type": "markdown",
   "metadata": {},
   "source": [
    "<h2>Introduction: Business understanding (Problem)</h2>"
   ]
  },
  {
   "cell_type": "markdown",
   "metadata": {},
   "source": [
    "We live in a world where a lot of statistic that directly affect road transportation are publicly available, these statistic include weather reports, visiblity, cogesion on certain days or dates, and so on.\n",
    "\n",
    "These statistics are used to design a model which uses the available statistics in order to predict the likelihood of an accident happening.\n",
    "\n",
    "Since almost everybody finds themselves on the road almost everyday, this model is targeted to everyone. so when every a person wants to go out, they can check and see if it is safe for them."
   ]
  },
  {
   "cell_type": "markdown",
   "metadata": {},
   "source": [
    "<h2>Data Understanding</h2>"
   ]
  },
  {
   "cell_type": "markdown",
   "metadata": {},
   "source": [
    "The dataset used contains data about car accidents provided by SPD and recorded by Traffic Records. I contains 40 columns, 39 of which are independent variable and a target variabl 'SEVERITYCODE' which will be predicted."
   ]
  },
  {
   "cell_type": "markdown",
   "metadata": {},
   "source": [
    "<h2>Methodology</h2>"
   ]
  },
  {
   "cell_type": "code",
   "execution_count": 1,
   "metadata": {},
   "outputs": [],
   "source": [
    "import pandas as pd\n",
    "import matplotlib.pyplot as plt\n",
    "import seaborn as sns"
   ]
  },
  {
   "cell_type": "code",
   "execution_count": 2,
   "metadata": {},
   "outputs": [
    {
     "data": {
      "text/html": [
       "<div>\n",
       "<style scoped>\n",
       "    .dataframe tbody tr th:only-of-type {\n",
       "        vertical-align: middle;\n",
       "    }\n",
       "\n",
       "    .dataframe tbody tr th {\n",
       "        vertical-align: top;\n",
       "    }\n",
       "\n",
       "    .dataframe thead th {\n",
       "        text-align: right;\n",
       "    }\n",
       "</style>\n",
       "<table border=\"1\" class=\"dataframe\">\n",
       "  <thead>\n",
       "    <tr style=\"text-align: right;\">\n",
       "      <th></th>\n",
       "      <th>X</th>\n",
       "      <th>Y</th>\n",
       "      <th>OBJECTID</th>\n",
       "      <th>INCKEY</th>\n",
       "      <th>COLDETKEY</th>\n",
       "      <th>REPORTNO</th>\n",
       "      <th>STATUS</th>\n",
       "      <th>ADDRTYPE</th>\n",
       "      <th>INTKEY</th>\n",
       "      <th>LOCATION</th>\n",
       "      <th>...</th>\n",
       "      <th>ROADCOND</th>\n",
       "      <th>LIGHTCOND</th>\n",
       "      <th>PEDROWNOTGRNT</th>\n",
       "      <th>SDOTCOLNUM</th>\n",
       "      <th>SPEEDING</th>\n",
       "      <th>ST_COLCODE</th>\n",
       "      <th>ST_COLDESC</th>\n",
       "      <th>SEGLANEKEY</th>\n",
       "      <th>CROSSWALKKEY</th>\n",
       "      <th>HITPARKEDCAR</th>\n",
       "    </tr>\n",
       "  </thead>\n",
       "  <tbody>\n",
       "    <tr>\n",
       "      <th>0</th>\n",
       "      <td>-122.386772</td>\n",
       "      <td>47.564720</td>\n",
       "      <td>1</td>\n",
       "      <td>326234</td>\n",
       "      <td>327734</td>\n",
       "      <td>E984735</td>\n",
       "      <td>Matched</td>\n",
       "      <td>Intersection</td>\n",
       "      <td>31893.0</td>\n",
       "      <td>CALIFORNIA AVE SW AND SW GENESEE ST</td>\n",
       "      <td>...</td>\n",
       "      <td>Dry</td>\n",
       "      <td>Daylight</td>\n",
       "      <td>Y</td>\n",
       "      <td>NaN</td>\n",
       "      <td>NaN</td>\n",
       "      <td>2</td>\n",
       "      <td>Vehicle turning left hits pedestrian</td>\n",
       "      <td>0</td>\n",
       "      <td>0</td>\n",
       "      <td>N</td>\n",
       "    </tr>\n",
       "    <tr>\n",
       "      <th>1</th>\n",
       "      <td>-122.341806</td>\n",
       "      <td>47.686934</td>\n",
       "      <td>2</td>\n",
       "      <td>326246</td>\n",
       "      <td>327746</td>\n",
       "      <td>E985430</td>\n",
       "      <td>Matched</td>\n",
       "      <td>Intersection</td>\n",
       "      <td>24228.0</td>\n",
       "      <td>STONE AVE N AND N 80TH ST</td>\n",
       "      <td>...</td>\n",
       "      <td>Wet</td>\n",
       "      <td>Dark - Street Lights On</td>\n",
       "      <td>NaN</td>\n",
       "      <td>NaN</td>\n",
       "      <td>NaN</td>\n",
       "      <td>10</td>\n",
       "      <td>Entering at angle</td>\n",
       "      <td>0</td>\n",
       "      <td>0</td>\n",
       "      <td>N</td>\n",
       "    </tr>\n",
       "    <tr>\n",
       "      <th>2</th>\n",
       "      <td>-122.374899</td>\n",
       "      <td>47.668666</td>\n",
       "      <td>3</td>\n",
       "      <td>329254</td>\n",
       "      <td>330754</td>\n",
       "      <td>EA16720</td>\n",
       "      <td>Matched</td>\n",
       "      <td>Block</td>\n",
       "      <td>NaN</td>\n",
       "      <td>NW MARKET ST BETWEEN 14TH AVE NW AND 15TH AVE NW</td>\n",
       "      <td>...</td>\n",
       "      <td>Dry</td>\n",
       "      <td>Daylight</td>\n",
       "      <td>NaN</td>\n",
       "      <td>NaN</td>\n",
       "      <td>NaN</td>\n",
       "      <td>11</td>\n",
       "      <td>From same direction - both going straight - bo...</td>\n",
       "      <td>0</td>\n",
       "      <td>0</td>\n",
       "      <td>N</td>\n",
       "    </tr>\n",
       "    <tr>\n",
       "      <th>3</th>\n",
       "      <td>-122.300758</td>\n",
       "      <td>47.683047</td>\n",
       "      <td>4</td>\n",
       "      <td>21200</td>\n",
       "      <td>21200</td>\n",
       "      <td>1227970</td>\n",
       "      <td>Matched</td>\n",
       "      <td>Intersection</td>\n",
       "      <td>24661.0</td>\n",
       "      <td>25TH AVE NE AND NE 75TH ST</td>\n",
       "      <td>...</td>\n",
       "      <td>Wet</td>\n",
       "      <td>Dark - Street Lights On</td>\n",
       "      <td>NaN</td>\n",
       "      <td>4160038.0</td>\n",
       "      <td>NaN</td>\n",
       "      <td>28</td>\n",
       "      <td>From opposite direction - one left turn - one ...</td>\n",
       "      <td>0</td>\n",
       "      <td>0</td>\n",
       "      <td>N</td>\n",
       "    </tr>\n",
       "    <tr>\n",
       "      <th>4</th>\n",
       "      <td>-122.313053</td>\n",
       "      <td>47.567241</td>\n",
       "      <td>5</td>\n",
       "      <td>17000</td>\n",
       "      <td>17000</td>\n",
       "      <td>1793348</td>\n",
       "      <td>Unmatched</td>\n",
       "      <td>Block</td>\n",
       "      <td>NaN</td>\n",
       "      <td>S DAKOTA ST BETWEEN 15TH AVE S AND 16TH AVE S</td>\n",
       "      <td>...</td>\n",
       "      <td>NaN</td>\n",
       "      <td>NaN</td>\n",
       "      <td>NaN</td>\n",
       "      <td>4289025.0</td>\n",
       "      <td>NaN</td>\n",
       "      <td>NaN</td>\n",
       "      <td>NaN</td>\n",
       "      <td>0</td>\n",
       "      <td>0</td>\n",
       "      <td>N</td>\n",
       "    </tr>\n",
       "  </tbody>\n",
       "</table>\n",
       "<p>5 rows × 40 columns</p>\n",
       "</div>"
      ],
      "text/plain": [
       "            X          Y  OBJECTID  INCKEY  COLDETKEY REPORTNO     STATUS  \\\n",
       "0 -122.386772  47.564720         1  326234     327734  E984735    Matched   \n",
       "1 -122.341806  47.686934         2  326246     327746  E985430    Matched   \n",
       "2 -122.374899  47.668666         3  329254     330754  EA16720    Matched   \n",
       "3 -122.300758  47.683047         4   21200      21200  1227970    Matched   \n",
       "4 -122.313053  47.567241         5   17000      17000  1793348  Unmatched   \n",
       "\n",
       "       ADDRTYPE   INTKEY                                          LOCATION  \\\n",
       "0  Intersection  31893.0               CALIFORNIA AVE SW AND SW GENESEE ST   \n",
       "1  Intersection  24228.0                         STONE AVE N AND N 80TH ST   \n",
       "2         Block      NaN  NW MARKET ST BETWEEN 14TH AVE NW AND 15TH AVE NW   \n",
       "3  Intersection  24661.0                        25TH AVE NE AND NE 75TH ST   \n",
       "4         Block      NaN     S DAKOTA ST BETWEEN 15TH AVE S AND 16TH AVE S   \n",
       "\n",
       "   ... ROADCOND                LIGHTCOND PEDROWNOTGRNT SDOTCOLNUM SPEEDING  \\\n",
       "0  ...      Dry                 Daylight             Y        NaN      NaN   \n",
       "1  ...      Wet  Dark - Street Lights On           NaN        NaN      NaN   \n",
       "2  ...      Dry                 Daylight           NaN        NaN      NaN   \n",
       "3  ...      Wet  Dark - Street Lights On           NaN  4160038.0      NaN   \n",
       "4  ...      NaN                      NaN           NaN  4289025.0      NaN   \n",
       "\n",
       "   ST_COLCODE                                         ST_COLDESC  SEGLANEKEY  \\\n",
       "0           2               Vehicle turning left hits pedestrian           0   \n",
       "1          10                                  Entering at angle           0   \n",
       "2          11  From same direction - both going straight - bo...           0   \n",
       "3          28  From opposite direction - one left turn - one ...           0   \n",
       "4         NaN                                                NaN           0   \n",
       "\n",
       "   CROSSWALKKEY  HITPARKEDCAR  \n",
       "0             0             N  \n",
       "1             0             N  \n",
       "2             0             N  \n",
       "3             0             N  \n",
       "4             0             N  \n",
       "\n",
       "[5 rows x 40 columns]"
      ]
     },
     "execution_count": 2,
     "metadata": {},
     "output_type": "execute_result"
    }
   ],
   "source": [
    "accident_df = pd.read_csv('Collisions.csv',encoding = \"utf-8\",low_memory=False)\n",
    "accident_df.head()"
   ]
  },
  {
   "cell_type": "code",
   "execution_count": 3,
   "metadata": {},
   "outputs": [
    {
     "name": "stdout",
     "output_type": "stream",
     "text": [
      "Rows:  221266\n",
      "Columns:  40\n"
     ]
    }
   ],
   "source": [
    "#getting the shape of the dataset\n",
    "print(\"Rows: \",accident_df.shape[0])\n",
    "print(\"Columns: \",accident_df.shape[1])"
   ]
  },
  {
   "cell_type": "code",
   "execution_count": 4,
   "metadata": {},
   "outputs": [
    {
     "data": {
      "text/html": [
       "<div>\n",
       "<style scoped>\n",
       "    .dataframe tbody tr th:only-of-type {\n",
       "        vertical-align: middle;\n",
       "    }\n",
       "\n",
       "    .dataframe tbody tr th {\n",
       "        vertical-align: top;\n",
       "    }\n",
       "\n",
       "    .dataframe thead th {\n",
       "        text-align: right;\n",
       "    }\n",
       "</style>\n",
       "<table border=\"1\" class=\"dataframe\">\n",
       "  <thead>\n",
       "    <tr style=\"text-align: right;\">\n",
       "      <th></th>\n",
       "      <th>X</th>\n",
       "      <th>Y</th>\n",
       "      <th>OBJECTID</th>\n",
       "      <th>INCKEY</th>\n",
       "      <th>COLDETKEY</th>\n",
       "      <th>REPORTNO</th>\n",
       "      <th>STATUS</th>\n",
       "      <th>ADDRTYPE</th>\n",
       "      <th>INTKEY</th>\n",
       "      <th>LOCATION</th>\n",
       "      <th>...</th>\n",
       "      <th>ROADCOND</th>\n",
       "      <th>LIGHTCOND</th>\n",
       "      <th>PEDROWNOTGRNT</th>\n",
       "      <th>SDOTCOLNUM</th>\n",
       "      <th>SPEEDING</th>\n",
       "      <th>ST_COLCODE</th>\n",
       "      <th>ST_COLDESC</th>\n",
       "      <th>SEGLANEKEY</th>\n",
       "      <th>CROSSWALKKEY</th>\n",
       "      <th>HITPARKEDCAR</th>\n",
       "    </tr>\n",
       "  </thead>\n",
       "  <tbody>\n",
       "    <tr>\n",
       "      <th>count</th>\n",
       "      <td>213797.000000</td>\n",
       "      <td>213797.000000</td>\n",
       "      <td>221266.000000</td>\n",
       "      <td>221266.000000</td>\n",
       "      <td>221266.000000</td>\n",
       "      <td>221266</td>\n",
       "      <td>221266</td>\n",
       "      <td>217554</td>\n",
       "      <td>71823.000000</td>\n",
       "      <td>216680</td>\n",
       "      <td>...</td>\n",
       "      <td>194658</td>\n",
       "      <td>194490</td>\n",
       "      <td>5188</td>\n",
       "      <td>1.272050e+05</td>\n",
       "      <td>9913</td>\n",
       "      <td>211853</td>\n",
       "      <td>194767</td>\n",
       "      <td>221266.000000</td>\n",
       "      <td>2.212660e+05</td>\n",
       "      <td>221266</td>\n",
       "    </tr>\n",
       "    <tr>\n",
       "      <th>unique</th>\n",
       "      <td>NaN</td>\n",
       "      <td>NaN</td>\n",
       "      <td>NaN</td>\n",
       "      <td>NaN</td>\n",
       "      <td>NaN</td>\n",
       "      <td>221263</td>\n",
       "      <td>2</td>\n",
       "      <td>3</td>\n",
       "      <td>NaN</td>\n",
       "      <td>25193</td>\n",
       "      <td>...</td>\n",
       "      <td>9</td>\n",
       "      <td>9</td>\n",
       "      <td>1</td>\n",
       "      <td>NaN</td>\n",
       "      <td>1</td>\n",
       "      <td>63</td>\n",
       "      <td>62</td>\n",
       "      <td>NaN</td>\n",
       "      <td>NaN</td>\n",
       "      <td>2</td>\n",
       "    </tr>\n",
       "    <tr>\n",
       "      <th>top</th>\n",
       "      <td>NaN</td>\n",
       "      <td>NaN</td>\n",
       "      <td>NaN</td>\n",
       "      <td>NaN</td>\n",
       "      <td>NaN</td>\n",
       "      <td>1780512</td>\n",
       "      <td>Matched</td>\n",
       "      <td>Block</td>\n",
       "      <td>NaN</td>\n",
       "      <td>BATTERY ST TUNNEL NB BETWEEN ALASKAN WY VI NB ...</td>\n",
       "      <td>...</td>\n",
       "      <td>Dry</td>\n",
       "      <td>Daylight</td>\n",
       "      <td>Y</td>\n",
       "      <td>NaN</td>\n",
       "      <td>Y</td>\n",
       "      <td>32</td>\n",
       "      <td>One parked--one moving</td>\n",
       "      <td>NaN</td>\n",
       "      <td>NaN</td>\n",
       "      <td>N</td>\n",
       "    </tr>\n",
       "    <tr>\n",
       "      <th>freq</th>\n",
       "      <td>NaN</td>\n",
       "      <td>NaN</td>\n",
       "      <td>NaN</td>\n",
       "      <td>NaN</td>\n",
       "      <td>NaN</td>\n",
       "      <td>2</td>\n",
       "      <td>194840</td>\n",
       "      <td>144857</td>\n",
       "      <td>NaN</td>\n",
       "      <td>298</td>\n",
       "      <td>...</td>\n",
       "      <td>128171</td>\n",
       "      <td>119166</td>\n",
       "      <td>5188</td>\n",
       "      <td>NaN</td>\n",
       "      <td>9913</td>\n",
       "      <td>44842</td>\n",
       "      <td>44842</td>\n",
       "      <td>NaN</td>\n",
       "      <td>NaN</td>\n",
       "      <td>209290</td>\n",
       "    </tr>\n",
       "    <tr>\n",
       "      <th>mean</th>\n",
       "      <td>-122.330752</td>\n",
       "      <td>47.620205</td>\n",
       "      <td>110633.500000</td>\n",
       "      <td>144603.603179</td>\n",
       "      <td>144831.128840</td>\n",
       "      <td>NaN</td>\n",
       "      <td>NaN</td>\n",
       "      <td>NaN</td>\n",
       "      <td>37616.272768</td>\n",
       "      <td>NaN</td>\n",
       "      <td>...</td>\n",
       "      <td>NaN</td>\n",
       "      <td>NaN</td>\n",
       "      <td>NaN</td>\n",
       "      <td>7.971063e+06</td>\n",
       "      <td>NaN</td>\n",
       "      <td>NaN</td>\n",
       "      <td>NaN</td>\n",
       "      <td>261.441573</td>\n",
       "      <td>9.588454e+03</td>\n",
       "      <td>NaN</td>\n",
       "    </tr>\n",
       "    <tr>\n",
       "      <th>std</th>\n",
       "      <td>0.030054</td>\n",
       "      <td>0.056040</td>\n",
       "      <td>63874.136669</td>\n",
       "      <td>89039.925169</td>\n",
       "      <td>89413.579421</td>\n",
       "      <td>NaN</td>\n",
       "      <td>NaN</td>\n",
       "      <td>NaN</td>\n",
       "      <td>51905.450406</td>\n",
       "      <td>NaN</td>\n",
       "      <td>...</td>\n",
       "      <td>NaN</td>\n",
       "      <td>NaN</td>\n",
       "      <td>NaN</td>\n",
       "      <td>2.611523e+06</td>\n",
       "      <td>NaN</td>\n",
       "      <td>NaN</td>\n",
       "      <td>NaN</td>\n",
       "      <td>3248.850406</td>\n",
       "      <td>7.150262e+04</td>\n",
       "      <td>NaN</td>\n",
       "    </tr>\n",
       "    <tr>\n",
       "      <th>min</th>\n",
       "      <td>-122.419091</td>\n",
       "      <td>47.495573</td>\n",
       "      <td>1.000000</td>\n",
       "      <td>1001.000000</td>\n",
       "      <td>1001.000000</td>\n",
       "      <td>NaN</td>\n",
       "      <td>NaN</td>\n",
       "      <td>NaN</td>\n",
       "      <td>23807.000000</td>\n",
       "      <td>NaN</td>\n",
       "      <td>...</td>\n",
       "      <td>NaN</td>\n",
       "      <td>NaN</td>\n",
       "      <td>NaN</td>\n",
       "      <td>1.007024e+06</td>\n",
       "      <td>NaN</td>\n",
       "      <td>NaN</td>\n",
       "      <td>NaN</td>\n",
       "      <td>0.000000</td>\n",
       "      <td>0.000000e+00</td>\n",
       "      <td>NaN</td>\n",
       "    </tr>\n",
       "    <tr>\n",
       "      <th>25%</th>\n",
       "      <td>-122.349280</td>\n",
       "      <td>47.577302</td>\n",
       "      <td>55317.250000</td>\n",
       "      <td>71603.250000</td>\n",
       "      <td>71603.250000</td>\n",
       "      <td>NaN</td>\n",
       "      <td>NaN</td>\n",
       "      <td>NaN</td>\n",
       "      <td>28653.000000</td>\n",
       "      <td>NaN</td>\n",
       "      <td>...</td>\n",
       "      <td>NaN</td>\n",
       "      <td>NaN</td>\n",
       "      <td>NaN</td>\n",
       "      <td>6.007029e+06</td>\n",
       "      <td>NaN</td>\n",
       "      <td>NaN</td>\n",
       "      <td>NaN</td>\n",
       "      <td>0.000000</td>\n",
       "      <td>0.000000e+00</td>\n",
       "      <td>NaN</td>\n",
       "    </tr>\n",
       "    <tr>\n",
       "      <th>50%</th>\n",
       "      <td>-122.330348</td>\n",
       "      <td>47.616053</td>\n",
       "      <td>110633.500000</td>\n",
       "      <td>127122.500000</td>\n",
       "      <td>127122.500000</td>\n",
       "      <td>NaN</td>\n",
       "      <td>NaN</td>\n",
       "      <td>NaN</td>\n",
       "      <td>29973.000000</td>\n",
       "      <td>NaN</td>\n",
       "      <td>...</td>\n",
       "      <td>NaN</td>\n",
       "      <td>NaN</td>\n",
       "      <td>NaN</td>\n",
       "      <td>8.033011e+06</td>\n",
       "      <td>NaN</td>\n",
       "      <td>NaN</td>\n",
       "      <td>NaN</td>\n",
       "      <td>0.000000</td>\n",
       "      <td>0.000000e+00</td>\n",
       "      <td>NaN</td>\n",
       "    </tr>\n",
       "    <tr>\n",
       "      <th>75%</th>\n",
       "      <td>-122.311998</td>\n",
       "      <td>47.664290</td>\n",
       "      <td>165949.750000</td>\n",
       "      <td>209654.750000</td>\n",
       "      <td>209874.750000</td>\n",
       "      <td>NaN</td>\n",
       "      <td>NaN</td>\n",
       "      <td>NaN</td>\n",
       "      <td>33984.000000</td>\n",
       "      <td>NaN</td>\n",
       "      <td>...</td>\n",
       "      <td>NaN</td>\n",
       "      <td>NaN</td>\n",
       "      <td>NaN</td>\n",
       "      <td>1.018101e+07</td>\n",
       "      <td>NaN</td>\n",
       "      <td>NaN</td>\n",
       "      <td>NaN</td>\n",
       "      <td>0.000000</td>\n",
       "      <td>0.000000e+00</td>\n",
       "      <td>NaN</td>\n",
       "    </tr>\n",
       "    <tr>\n",
       "      <th>max</th>\n",
       "      <td>-122.238949</td>\n",
       "      <td>47.734142</td>\n",
       "      <td>221266.000000</td>\n",
       "      <td>333683.000000</td>\n",
       "      <td>335183.000000</td>\n",
       "      <td>NaN</td>\n",
       "      <td>NaN</td>\n",
       "      <td>NaN</td>\n",
       "      <td>757580.000000</td>\n",
       "      <td>NaN</td>\n",
       "      <td>...</td>\n",
       "      <td>NaN</td>\n",
       "      <td>NaN</td>\n",
       "      <td>NaN</td>\n",
       "      <td>1.307202e+07</td>\n",
       "      <td>NaN</td>\n",
       "      <td>NaN</td>\n",
       "      <td>NaN</td>\n",
       "      <td>525241.000000</td>\n",
       "      <td>5.239700e+06</td>\n",
       "      <td>NaN</td>\n",
       "    </tr>\n",
       "  </tbody>\n",
       "</table>\n",
       "<p>11 rows × 40 columns</p>\n",
       "</div>"
      ],
      "text/plain": [
       "                    X              Y       OBJECTID         INCKEY  \\\n",
       "count   213797.000000  213797.000000  221266.000000  221266.000000   \n",
       "unique            NaN            NaN            NaN            NaN   \n",
       "top               NaN            NaN            NaN            NaN   \n",
       "freq              NaN            NaN            NaN            NaN   \n",
       "mean      -122.330752      47.620205  110633.500000  144603.603179   \n",
       "std          0.030054       0.056040   63874.136669   89039.925169   \n",
       "min       -122.419091      47.495573       1.000000    1001.000000   \n",
       "25%       -122.349280      47.577302   55317.250000   71603.250000   \n",
       "50%       -122.330348      47.616053  110633.500000  127122.500000   \n",
       "75%       -122.311998      47.664290  165949.750000  209654.750000   \n",
       "max       -122.238949      47.734142  221266.000000  333683.000000   \n",
       "\n",
       "            COLDETKEY REPORTNO   STATUS ADDRTYPE         INTKEY  \\\n",
       "count   221266.000000   221266   221266   217554   71823.000000   \n",
       "unique            NaN   221263        2        3            NaN   \n",
       "top               NaN  1780512  Matched    Block            NaN   \n",
       "freq              NaN        2   194840   144857            NaN   \n",
       "mean    144831.128840      NaN      NaN      NaN   37616.272768   \n",
       "std      89413.579421      NaN      NaN      NaN   51905.450406   \n",
       "min       1001.000000      NaN      NaN      NaN   23807.000000   \n",
       "25%      71603.250000      NaN      NaN      NaN   28653.000000   \n",
       "50%     127122.500000      NaN      NaN      NaN   29973.000000   \n",
       "75%     209874.750000      NaN      NaN      NaN   33984.000000   \n",
       "max     335183.000000      NaN      NaN      NaN  757580.000000   \n",
       "\n",
       "                                                 LOCATION  ... ROADCOND  \\\n",
       "count                                              216680  ...   194658   \n",
       "unique                                              25193  ...        9   \n",
       "top     BATTERY ST TUNNEL NB BETWEEN ALASKAN WY VI NB ...  ...      Dry   \n",
       "freq                                                  298  ...   128171   \n",
       "mean                                                  NaN  ...      NaN   \n",
       "std                                                   NaN  ...      NaN   \n",
       "min                                                   NaN  ...      NaN   \n",
       "25%                                                   NaN  ...      NaN   \n",
       "50%                                                   NaN  ...      NaN   \n",
       "75%                                                   NaN  ...      NaN   \n",
       "max                                                   NaN  ...      NaN   \n",
       "\n",
       "       LIGHTCOND PEDROWNOTGRNT    SDOTCOLNUM SPEEDING  ST_COLCODE  \\\n",
       "count     194490          5188  1.272050e+05     9913      211853   \n",
       "unique         9             1           NaN        1          63   \n",
       "top     Daylight             Y           NaN        Y          32   \n",
       "freq      119166          5188           NaN     9913       44842   \n",
       "mean         NaN           NaN  7.971063e+06      NaN         NaN   \n",
       "std          NaN           NaN  2.611523e+06      NaN         NaN   \n",
       "min          NaN           NaN  1.007024e+06      NaN         NaN   \n",
       "25%          NaN           NaN  6.007029e+06      NaN         NaN   \n",
       "50%          NaN           NaN  8.033011e+06      NaN         NaN   \n",
       "75%          NaN           NaN  1.018101e+07      NaN         NaN   \n",
       "max          NaN           NaN  1.307202e+07      NaN         NaN   \n",
       "\n",
       "                    ST_COLDESC     SEGLANEKEY  CROSSWALKKEY  HITPARKEDCAR  \n",
       "count                   194767  221266.000000  2.212660e+05        221266  \n",
       "unique                      62            NaN           NaN             2  \n",
       "top     One parked--one moving            NaN           NaN             N  \n",
       "freq                     44842            NaN           NaN        209290  \n",
       "mean                       NaN     261.441573  9.588454e+03           NaN  \n",
       "std                        NaN    3248.850406  7.150262e+04           NaN  \n",
       "min                        NaN       0.000000  0.000000e+00           NaN  \n",
       "25%                        NaN       0.000000  0.000000e+00           NaN  \n",
       "50%                        NaN       0.000000  0.000000e+00           NaN  \n",
       "75%                        NaN       0.000000  0.000000e+00           NaN  \n",
       "max                        NaN  525241.000000  5.239700e+06           NaN  \n",
       "\n",
       "[11 rows x 40 columns]"
      ]
     },
     "execution_count": 4,
     "metadata": {},
     "output_type": "execute_result"
    }
   ],
   "source": [
    "#full description of the dataset\n",
    "accident_df.describe(include=\"all\")"
   ]
  },
  {
   "cell_type": "markdown",
   "metadata": {},
   "source": [
    "<h2>Column name description</h2>\n",
    "<ul>\n",
    "<li>X - Coordinates</li>\n",
    "<li>Y - Coordinates</li>\n",
    "<li>WEATHER - How the weather was during the collision</li>\n",
    "<li>SPEEDING - If speeding caused the collision</li>\n",
    "<li>LIGHTCOND - Visiblity during the collision</li>\n",
    "<li>ROADCOND - Condition of the road</li>\n",
    "<li>JUNCTION TYPE - If the collision happened at a junction</li>\n",
    "<li>PERSONCOUNT - Total number of people involved in the collision</li>\n",
    "<li>VEHCOUNT - Total vehicles of people involved in the collision</li>\n",
    "</ul>"
   ]
  },
  {
   "cell_type": "code",
   "execution_count": 5,
   "metadata": {},
   "outputs": [],
   "source": [
    "import numpy as np\n",
    "from sklearn import preprocessing\n",
    "from sklearn.utils import resample\n",
    "from sklearn.model_selection import train_test_split"
   ]
  },
  {
   "cell_type": "code",
   "execution_count": 6,
   "metadata": {},
   "outputs": [
    {
     "data": {
      "text/html": [
       "<div>\n",
       "<style scoped>\n",
       "    .dataframe tbody tr th:only-of-type {\n",
       "        vertical-align: middle;\n",
       "    }\n",
       "\n",
       "    .dataframe tbody tr th {\n",
       "        vertical-align: top;\n",
       "    }\n",
       "\n",
       "    .dataframe thead th {\n",
       "        text-align: right;\n",
       "    }\n",
       "</style>\n",
       "<table border=\"1\" class=\"dataframe\">\n",
       "  <thead>\n",
       "    <tr style=\"text-align: right;\">\n",
       "      <th></th>\n",
       "      <th>WEATHER</th>\n",
       "      <th>SPEEDING</th>\n",
       "      <th>LIGHTCOND</th>\n",
       "      <th>ROADCOND</th>\n",
       "      <th>JUNCTIONTYPE</th>\n",
       "      <th>PERSONCOUNT</th>\n",
       "      <th>VEHCOUNT</th>\n",
       "      <th>SEVERITYCODE</th>\n",
       "    </tr>\n",
       "  </thead>\n",
       "  <tbody>\n",
       "    <tr>\n",
       "      <th>0</th>\n",
       "      <td>Clear</td>\n",
       "      <td>NaN</td>\n",
       "      <td>Daylight</td>\n",
       "      <td>Dry</td>\n",
       "      <td>At Intersection (intersection related)</td>\n",
       "      <td>2</td>\n",
       "      <td>1</td>\n",
       "      <td>2</td>\n",
       "    </tr>\n",
       "    <tr>\n",
       "      <th>1</th>\n",
       "      <td>Raining</td>\n",
       "      <td>NaN</td>\n",
       "      <td>Dark - Street Lights On</td>\n",
       "      <td>Wet</td>\n",
       "      <td>At Intersection (intersection related)</td>\n",
       "      <td>4</td>\n",
       "      <td>2</td>\n",
       "      <td>2</td>\n",
       "    </tr>\n",
       "    <tr>\n",
       "      <th>2</th>\n",
       "      <td>Clear</td>\n",
       "      <td>NaN</td>\n",
       "      <td>Daylight</td>\n",
       "      <td>Dry</td>\n",
       "      <td>Mid-Block (not related to intersection)</td>\n",
       "      <td>4</td>\n",
       "      <td>3</td>\n",
       "      <td>1</td>\n",
       "    </tr>\n",
       "    <tr>\n",
       "      <th>3</th>\n",
       "      <td>Raining</td>\n",
       "      <td>NaN</td>\n",
       "      <td>Dark - Street Lights On</td>\n",
       "      <td>Wet</td>\n",
       "      <td>At Intersection (intersection related)</td>\n",
       "      <td>2</td>\n",
       "      <td>2</td>\n",
       "      <td>1</td>\n",
       "    </tr>\n",
       "    <tr>\n",
       "      <th>4</th>\n",
       "      <td>NaN</td>\n",
       "      <td>NaN</td>\n",
       "      <td>NaN</td>\n",
       "      <td>NaN</td>\n",
       "      <td>Mid-Block (but intersection related)</td>\n",
       "      <td>0</td>\n",
       "      <td>0</td>\n",
       "      <td>0</td>\n",
       "    </tr>\n",
       "  </tbody>\n",
       "</table>\n",
       "</div>"
      ],
      "text/plain": [
       "   WEATHER SPEEDING                LIGHTCOND ROADCOND  \\\n",
       "0    Clear      NaN                 Daylight      Dry   \n",
       "1  Raining      NaN  Dark - Street Lights On      Wet   \n",
       "2    Clear      NaN                 Daylight      Dry   \n",
       "3  Raining      NaN  Dark - Street Lights On      Wet   \n",
       "4      NaN      NaN                      NaN      NaN   \n",
       "\n",
       "                              JUNCTIONTYPE  PERSONCOUNT  VEHCOUNT SEVERITYCODE  \n",
       "0   At Intersection (intersection related)            2         1            2  \n",
       "1   At Intersection (intersection related)            4         2            2  \n",
       "2  Mid-Block (not related to intersection)            4         3            1  \n",
       "3   At Intersection (intersection related)            2         2            1  \n",
       "4     Mid-Block (but intersection related)            0         0            0  "
      ]
     },
     "execution_count": 6,
     "metadata": {},
     "output_type": "execute_result"
    }
   ],
   "source": [
    "#removing the attributes we need\n",
    "accident = accident_df[[\"WEATHER\",\"SPEEDING\",\"LIGHTCOND\",\"ROADCOND\",\"JUNCTIONTYPE\",\"PERSONCOUNT\",\"VEHCOUNT\",\"SEVERITYCODE\"]]\n",
    "accident.head()"
   ]
  },
  {
   "cell_type": "markdown",
   "metadata": {},
   "source": [
    "Next we clean the data"
   ]
  },
  {
   "cell_type": "code",
   "execution_count": 7,
   "metadata": {},
   "outputs": [
    {
     "data": {
      "text/plain": [
       "Clear                       114361\n",
       "Raining                      34021\n",
       "Overcast                     28508\n",
       "NaN                          26688\n",
       "Unknown                      15131\n",
       "Snowing                        919\n",
       "Other                          853\n",
       "Fog/Smog/Smoke                 577\n",
       "Sleet/Hail/Freezing Rain       116\n",
       "Blowing Sand/Dirt               56\n",
       "Severe Crosswind                26\n",
       "Partly Cloudy                    9\n",
       "Blowing Snow                     1\n",
       "Name: WEATHER, dtype: int64"
      ]
     },
     "execution_count": 7,
     "metadata": {},
     "output_type": "execute_result"
    }
   ],
   "source": [
    "accident.WEATHER.value_counts(dropna=False)"
   ]
  },
  {
   "cell_type": "code",
   "execution_count": 8,
   "metadata": {},
   "outputs": [],
   "source": [
    "pd.set_option('mode.chained_assignment', None)\n",
    "accident['WEATHER'].fillna(accident['WEATHER'].mode()[0], inplace=True)\n",
    "accident['WEATHER'] = accident['WEATHER'].replace(['Unknown'],accident['WEATHER'].mode()[0])\n",
    "accident = accident[accident.WEATHER !=\"Other\"]"
   ]
  },
  {
   "cell_type": "code",
   "execution_count": 9,
   "metadata": {},
   "outputs": [
    {
     "data": {
      "text/plain": [
       "Clear                       156180\n",
       "Raining                      34021\n",
       "Overcast                     28508\n",
       "Snowing                        919\n",
       "Fog/Smog/Smoke                 577\n",
       "Sleet/Hail/Freezing Rain       116\n",
       "Blowing Sand/Dirt               56\n",
       "Severe Crosswind                26\n",
       "Partly Cloudy                    9\n",
       "Blowing Snow                     1\n",
       "Name: WEATHER, dtype: int64"
      ]
     },
     "execution_count": 9,
     "metadata": {},
     "output_type": "execute_result"
    }
   ],
   "source": [
    "accident.WEATHER.value_counts(dropna=False)"
   ]
  },
  {
   "cell_type": "code",
   "execution_count": 10,
   "metadata": {},
   "outputs": [
    {
     "data": {
      "text/plain": [
       "NaN    210525\n",
       "Y        9888\n",
       "Name: SPEEDING, dtype: int64"
      ]
     },
     "execution_count": 10,
     "metadata": {},
     "output_type": "execute_result"
    }
   ],
   "source": [
    "accident.SPEEDING.value_counts(dropna=False)"
   ]
  },
  {
   "cell_type": "code",
   "execution_count": 11,
   "metadata": {},
   "outputs": [],
   "source": [
    "#replace NaN with N\n",
    "accident['SPEEDING'] = accident['SPEEDING'].fillna('N')"
   ]
  },
  {
   "cell_type": "code",
   "execution_count": 12,
   "metadata": {},
   "outputs": [
    {
     "data": {
      "text/plain": [
       "N    210525\n",
       "Y      9888\n",
       "Name: SPEEDING, dtype: int64"
      ]
     },
     "execution_count": 12,
     "metadata": {},
     "output_type": "execute_result"
    }
   ],
   "source": [
    "accident.SPEEDING.value_counts(dropna=False)"
   ]
  },
  {
   "cell_type": "code",
   "execution_count": 13,
   "metadata": {},
   "outputs": [
    {
     "data": {
      "text/plain": [
       "Daylight                    118857\n",
       "Dark - Street Lights On      49909\n",
       "NaN                          26770\n",
       "Unknown                      13200\n",
       "Dusk                          6053\n",
       "Dawn                          2590\n",
       "Dark - No Street Lights       1564\n",
       "Dark - Street Lights Off      1230\n",
       "Other                          224\n",
       "Dark - Unknown Lighting         16\n",
       "Name: LIGHTCOND, dtype: int64"
      ]
     },
     "execution_count": 13,
     "metadata": {},
     "output_type": "execute_result"
    }
   ],
   "source": [
    "accident.LIGHTCOND.value_counts(dropna=False)"
   ]
  },
  {
   "cell_type": "code",
   "execution_count": 14,
   "metadata": {},
   "outputs": [],
   "source": [
    "accident['LIGHTCOND'].fillna(accident['LIGHTCOND'].mode()[0], inplace=True)\n",
    "accident['LIGHTCOND'] = accident['LIGHTCOND'].replace(['Unknown'],accident['LIGHTCOND'].mode()[0])\n",
    "accident = accident[accident.LIGHTCOND !=\"Other\"]"
   ]
  },
  {
   "cell_type": "code",
   "execution_count": 15,
   "metadata": {},
   "outputs": [
    {
     "data": {
      "text/plain": [
       "Daylight                    158827\n",
       "Dark - Street Lights On      49909\n",
       "Dusk                          6053\n",
       "Dawn                          2590\n",
       "Dark - No Street Lights       1564\n",
       "Dark - Street Lights Off      1230\n",
       "Dark - Unknown Lighting         16\n",
       "Name: LIGHTCOND, dtype: int64"
      ]
     },
     "execution_count": 15,
     "metadata": {},
     "output_type": "execute_result"
    }
   ],
   "source": [
    "accident.LIGHTCOND.value_counts(dropna=False)"
   ]
  },
  {
   "cell_type": "code",
   "execution_count": 16,
   "metadata": {},
   "outputs": [
    {
     "data": {
      "text/plain": [
       "Dry               127878\n",
       "Wet                48551\n",
       "NaN                26606\n",
       "Unknown            14565\n",
       "Ice                 1211\n",
       "Snow/Slush          1000\n",
       "Other                123\n",
       "Standing Water       116\n",
       "Sand/Mud/Dirt         76\n",
       "Oil                   63\n",
       "Name: ROADCOND, dtype: int64"
      ]
     },
     "execution_count": 16,
     "metadata": {},
     "output_type": "execute_result"
    }
   ],
   "source": [
    "accident.ROADCOND.value_counts(dropna=False)"
   ]
  },
  {
   "cell_type": "code",
   "execution_count": 17,
   "metadata": {},
   "outputs": [],
   "source": [
    "accident['ROADCOND'].fillna(accident['ROADCOND'].mode()[0], inplace=True)\n",
    "accident['ROADCOND'] = accident['ROADCOND'].replace(['Unknown'],accident['ROADCOND'].mode()[0])"
   ]
  },
  {
   "cell_type": "code",
   "execution_count": 18,
   "metadata": {},
   "outputs": [
    {
     "data": {
      "text/plain": [
       "Dry               169049\n",
       "Wet                48551\n",
       "Ice                 1211\n",
       "Snow/Slush          1000\n",
       "Other                123\n",
       "Standing Water       116\n",
       "Sand/Mud/Dirt         76\n",
       "Oil                   63\n",
       "Name: ROADCOND, dtype: int64"
      ]
     },
     "execution_count": 18,
     "metadata": {},
     "output_type": "execute_result"
    }
   ],
   "source": [
    "accident.ROADCOND.value_counts(dropna=False)"
   ]
  },
  {
   "cell_type": "code",
   "execution_count": 19,
   "metadata": {},
   "outputs": [
    {
     "data": {
      "text/plain": [
       "Mid-Block (not related to intersection)              100906\n",
       "At Intersection (intersection related)                68950\n",
       "Mid-Block (but intersection related)                  24323\n",
       "NaN                                                   11868\n",
       "Driveway Junction                                     11447\n",
       "At Intersection (but not related to intersection)      2486\n",
       "Ramp Junction                                           188\n",
       "Unknown                                                  21\n",
       "Name: JUNCTIONTYPE, dtype: int64"
      ]
     },
     "execution_count": 19,
     "metadata": {},
     "output_type": "execute_result"
    }
   ],
   "source": [
    "accident.JUNCTIONTYPE.value_counts(dropna=False)"
   ]
  },
  {
   "cell_type": "code",
   "execution_count": 20,
   "metadata": {},
   "outputs": [],
   "source": [
    "accident['JUNCTIONTYPE'].fillna(accident['JUNCTIONTYPE'].mode()[0], inplace=True)\n",
    "accident = accident[accident.JUNCTIONTYPE !=\"Unknown\"]"
   ]
  },
  {
   "cell_type": "code",
   "execution_count": 21,
   "metadata": {},
   "outputs": [
    {
     "data": {
      "text/plain": [
       "Mid-Block (not related to intersection)              112774\n",
       "At Intersection (intersection related)                68950\n",
       "Mid-Block (but intersection related)                  24323\n",
       "Driveway Junction                                     11447\n",
       "At Intersection (but not related to intersection)      2486\n",
       "Ramp Junction                                           188\n",
       "Name: JUNCTIONTYPE, dtype: int64"
      ]
     },
     "execution_count": 21,
     "metadata": {},
     "output_type": "execute_result"
    }
   ],
   "source": [
    "accident.JUNCTIONTYPE.value_counts(dropna=False)"
   ]
  },
  {
   "cell_type": "code",
   "execution_count": 22,
   "metadata": {},
   "outputs": [
    {
     "data": {
      "text/plain": [
       "1      136586\n",
       "2       58524\n",
       "0       21623\n",
       "2b       3088\n",
       "3         346\n",
       "NaN         1\n",
       "Name: SEVERITYCODE, dtype: int64"
      ]
     },
     "execution_count": 22,
     "metadata": {},
     "output_type": "execute_result"
    }
   ],
   "source": [
    "accident.SEVERITYCODE.value_counts(dropna=False)"
   ]
  },
  {
   "cell_type": "code",
   "execution_count": 23,
   "metadata": {},
   "outputs": [],
   "source": [
    "accident['SEVERITYCODE'].fillna(accident['SEVERITYCODE'].mode()[0], inplace=True)\n",
    "accident['SEVERITYCODE'] = accident['SEVERITYCODE'].replace(['3'],'4')\n",
    "accident['SEVERITYCODE'] = accident['SEVERITYCODE'].replace(['2b'],'3')"
   ]
  },
  {
   "cell_type": "code",
   "execution_count": 24,
   "metadata": {},
   "outputs": [
    {
     "data": {
      "text/plain": [
       "1    136587\n",
       "2     58524\n",
       "0     21623\n",
       "3      3088\n",
       "4       346\n",
       "Name: SEVERITYCODE, dtype: int64"
      ]
     },
     "execution_count": 24,
     "metadata": {},
     "output_type": "execute_result"
    }
   ],
   "source": [
    "accident.SEVERITYCODE.value_counts(dropna=False)"
   ]
  },
  {
   "cell_type": "markdown",
   "metadata": {},
   "source": [
    "<h2>We start making our model</h2>"
   ]
  },
  {
   "cell_type": "code",
   "execution_count": 25,
   "metadata": {},
   "outputs": [],
   "source": [
    "x = accident[[\"WEATHER\",\"SPEEDING\",\"LIGHTCOND\",\"ROADCOND\",\"JUNCTIONTYPE\",\"PERSONCOUNT\",\"VEHCOUNT\"]].values\n",
    "y = accident[[\"SEVERITYCODE\"]].values"
   ]
  },
  {
   "cell_type": "code",
   "execution_count": 26,
   "metadata": {},
   "outputs": [],
   "source": [
    "weather = preprocessing.LabelEncoder()\n",
    "weather.fit(list(accident[\"WEATHER\"].unique()))\n",
    "weather_mapping = dict(zip(weather.classes_, weather.transform(weather.classes_)))\n",
    "x[:,0] = weather.transform(x[:,0]) \n",
    "\n",
    "speeding = preprocessing.LabelEncoder()\n",
    "speeding.fit(list(accident[\"SPEEDING\"].unique()))\n",
    "speeding_mapping = dict(zip(speeding.classes_, speeding.transform(speeding.classes_)))\n",
    "x[:,1] = speeding.transform(x[:,1]) \n",
    "\n",
    "lightcond = preprocessing.LabelEncoder()\n",
    "lightcond.fit(list(accident[\"LIGHTCOND\"].unique()))\n",
    "lightcond_mapping = dict(zip(lightcond.classes_, lightcond.transform(lightcond.classes_)))\n",
    "x[:,2] = lightcond.transform(x[:,2])\n",
    "\n",
    "roadcond = preprocessing.LabelEncoder()\n",
    "roadcond.fit(list(accident[\"ROADCOND\"].unique()))\n",
    "roadcond_mapping = dict(zip(roadcond.classes_, roadcond.transform(roadcond.classes_)))\n",
    "x[:,3] = roadcond.transform(x[:,3])\n",
    "\n",
    "junctiontype = preprocessing.LabelEncoder()\n",
    "junctiontype.fit(list(accident[\"JUNCTIONTYPE\"].unique()))\n",
    "junctiontype_mapping = dict(zip(junctiontype.classes_, junctiontype.transform(junctiontype.classes_)))\n",
    "x[:,4] = junctiontype.transform(x[:,4])"
   ]
  },
  {
   "cell_type": "code",
   "execution_count": 27,
   "metadata": {},
   "outputs": [
    {
     "data": {
      "text/html": [
       "<div>\n",
       "<style scoped>\n",
       "    .dataframe tbody tr th:only-of-type {\n",
       "        vertical-align: middle;\n",
       "    }\n",
       "\n",
       "    .dataframe tbody tr th {\n",
       "        vertical-align: top;\n",
       "    }\n",
       "\n",
       "    .dataframe thead th {\n",
       "        text-align: right;\n",
       "    }\n",
       "</style>\n",
       "<table border=\"1\" class=\"dataframe\">\n",
       "  <thead>\n",
       "    <tr style=\"text-align: right;\">\n",
       "      <th></th>\n",
       "      <th>WEATHER</th>\n",
       "      <th>SPEEDING</th>\n",
       "      <th>LIGHTCOND</th>\n",
       "      <th>ROADCOND</th>\n",
       "      <th>JUNCTIONTYPE</th>\n",
       "      <th>PERSONCOUNT</th>\n",
       "      <th>VEHCOUNT</th>\n",
       "      <th>SEVERITYCODE</th>\n",
       "    </tr>\n",
       "  </thead>\n",
       "  <tbody>\n",
       "    <tr>\n",
       "      <th>0</th>\n",
       "      <td>2</td>\n",
       "      <td>0</td>\n",
       "      <td>5</td>\n",
       "      <td>0</td>\n",
       "      <td>1</td>\n",
       "      <td>2</td>\n",
       "      <td>1</td>\n",
       "      <td>2</td>\n",
       "    </tr>\n",
       "    <tr>\n",
       "      <th>1</th>\n",
       "      <td>6</td>\n",
       "      <td>0</td>\n",
       "      <td>2</td>\n",
       "      <td>7</td>\n",
       "      <td>1</td>\n",
       "      <td>4</td>\n",
       "      <td>2</td>\n",
       "      <td>2</td>\n",
       "    </tr>\n",
       "    <tr>\n",
       "      <th>2</th>\n",
       "      <td>2</td>\n",
       "      <td>0</td>\n",
       "      <td>5</td>\n",
       "      <td>0</td>\n",
       "      <td>4</td>\n",
       "      <td>4</td>\n",
       "      <td>3</td>\n",
       "      <td>1</td>\n",
       "    </tr>\n",
       "    <tr>\n",
       "      <th>3</th>\n",
       "      <td>6</td>\n",
       "      <td>0</td>\n",
       "      <td>2</td>\n",
       "      <td>7</td>\n",
       "      <td>1</td>\n",
       "      <td>2</td>\n",
       "      <td>2</td>\n",
       "      <td>1</td>\n",
       "    </tr>\n",
       "    <tr>\n",
       "      <th>4</th>\n",
       "      <td>2</td>\n",
       "      <td>0</td>\n",
       "      <td>5</td>\n",
       "      <td>0</td>\n",
       "      <td>3</td>\n",
       "      <td>0</td>\n",
       "      <td>0</td>\n",
       "      <td>0</td>\n",
       "    </tr>\n",
       "  </tbody>\n",
       "</table>\n",
       "</div>"
      ],
      "text/plain": [
       "  WEATHER SPEEDING LIGHTCOND ROADCOND JUNCTIONTYPE PERSONCOUNT VEHCOUNT  \\\n",
       "0       2        0         5        0            1           2        1   \n",
       "1       6        0         2        7            1           4        2   \n",
       "2       2        0         5        0            4           4        3   \n",
       "3       6        0         2        7            1           2        2   \n",
       "4       2        0         5        0            3           0        0   \n",
       "\n",
       "  SEVERITYCODE  \n",
       "0            2  \n",
       "1            2  \n",
       "2            1  \n",
       "3            1  \n",
       "4            0  "
      ]
     },
     "execution_count": 27,
     "metadata": {},
     "output_type": "execute_result"
    }
   ],
   "source": [
    "accident = pd.DataFrame(x)\n",
    "accident.columns = [\"WEATHER\",\"SPEEDING\",\"LIGHTCOND\",\"ROADCOND\",\"JUNCTIONTYPE\",\"PERSONCOUNT\",\"VEHCOUNT\"]\n",
    "accident['SEVERITYCODE'] = y\n",
    "accident.head()"
   ]
  },
  {
   "cell_type": "markdown",
   "metadata": {},
   "source": [
    "Continous variable"
   ]
  },
  {
   "cell_type": "code",
   "execution_count": 28,
   "metadata": {},
   "outputs": [
    {
     "data": {
      "text/html": [
       "<div>\n",
       "<style scoped>\n",
       "    .dataframe tbody tr th:only-of-type {\n",
       "        vertical-align: middle;\n",
       "    }\n",
       "\n",
       "    .dataframe tbody tr th {\n",
       "        vertical-align: top;\n",
       "    }\n",
       "\n",
       "    .dataframe thead th {\n",
       "        text-align: right;\n",
       "    }\n",
       "</style>\n",
       "<table border=\"1\" class=\"dataframe\">\n",
       "  <thead>\n",
       "    <tr style=\"text-align: right;\">\n",
       "      <th></th>\n",
       "      <th>WEATHER</th>\n",
       "      <th>SPEEDING</th>\n",
       "      <th>LIGHTCOND</th>\n",
       "      <th>ROADCOND</th>\n",
       "      <th>JUNCTIONTYPE</th>\n",
       "      <th>PERSONCOUNT</th>\n",
       "      <th>VEHCOUNT</th>\n",
       "      <th>SEVERITYCODE</th>\n",
       "      <th>PERSONCOUNT_CAT</th>\n",
       "      <th>VEHCOUNT_CAT</th>\n",
       "    </tr>\n",
       "  </thead>\n",
       "  <tbody>\n",
       "    <tr>\n",
       "      <th>0</th>\n",
       "      <td>2</td>\n",
       "      <td>0</td>\n",
       "      <td>5</td>\n",
       "      <td>0</td>\n",
       "      <td>1</td>\n",
       "      <td>2</td>\n",
       "      <td>1</td>\n",
       "      <td>2</td>\n",
       "      <td>(-0.001, 2.0]</td>\n",
       "      <td>(-0.001, 2.0]</td>\n",
       "    </tr>\n",
       "    <tr>\n",
       "      <th>1</th>\n",
       "      <td>6</td>\n",
       "      <td>0</td>\n",
       "      <td>2</td>\n",
       "      <td>7</td>\n",
       "      <td>1</td>\n",
       "      <td>4</td>\n",
       "      <td>2</td>\n",
       "      <td>2</td>\n",
       "      <td>(3.0, 93.0]</td>\n",
       "      <td>(3.0, 93.0]</td>\n",
       "    </tr>\n",
       "    <tr>\n",
       "      <th>2</th>\n",
       "      <td>2</td>\n",
       "      <td>0</td>\n",
       "      <td>5</td>\n",
       "      <td>0</td>\n",
       "      <td>4</td>\n",
       "      <td>4</td>\n",
       "      <td>3</td>\n",
       "      <td>1</td>\n",
       "      <td>(3.0, 93.0]</td>\n",
       "      <td>(3.0, 93.0]</td>\n",
       "    </tr>\n",
       "    <tr>\n",
       "      <th>3</th>\n",
       "      <td>6</td>\n",
       "      <td>0</td>\n",
       "      <td>2</td>\n",
       "      <td>7</td>\n",
       "      <td>1</td>\n",
       "      <td>2</td>\n",
       "      <td>2</td>\n",
       "      <td>1</td>\n",
       "      <td>(-0.001, 2.0]</td>\n",
       "      <td>(-0.001, 2.0]</td>\n",
       "    </tr>\n",
       "    <tr>\n",
       "      <th>4</th>\n",
       "      <td>2</td>\n",
       "      <td>0</td>\n",
       "      <td>5</td>\n",
       "      <td>0</td>\n",
       "      <td>3</td>\n",
       "      <td>0</td>\n",
       "      <td>0</td>\n",
       "      <td>0</td>\n",
       "      <td>(-0.001, 2.0]</td>\n",
       "      <td>(-0.001, 2.0]</td>\n",
       "    </tr>\n",
       "  </tbody>\n",
       "</table>\n",
       "</div>"
      ],
      "text/plain": [
       "  WEATHER SPEEDING LIGHTCOND ROADCOND JUNCTIONTYPE PERSONCOUNT VEHCOUNT  \\\n",
       "0       2        0         5        0            1           2        1   \n",
       "1       6        0         2        7            1           4        2   \n",
       "2       2        0         5        0            4           4        3   \n",
       "3       6        0         2        7            1           2        2   \n",
       "4       2        0         5        0            3           0        0   \n",
       "\n",
       "  SEVERITYCODE PERSONCOUNT_CAT   VEHCOUNT_CAT  \n",
       "0            2   (-0.001, 2.0]  (-0.001, 2.0]  \n",
       "1            2     (3.0, 93.0]    (3.0, 93.0]  \n",
       "2            1     (3.0, 93.0]    (3.0, 93.0]  \n",
       "3            1   (-0.001, 2.0]  (-0.001, 2.0]  \n",
       "4            0   (-0.001, 2.0]  (-0.001, 2.0]  "
      ]
     },
     "execution_count": 28,
     "metadata": {},
     "output_type": "execute_result"
    }
   ],
   "source": [
    "accident['PERSONCOUNT_CAT'] = pd.qcut(accident['PERSONCOUNT'], q=4, duplicates='drop')\n",
    "accident['VEHCOUNT_CAT'] = pd.qcut(accident['PERSONCOUNT'], q=4, duplicates='drop')\n",
    "accident.head()"
   ]
  },
  {
   "cell_type": "code",
   "execution_count": 29,
   "metadata": {},
   "outputs": [],
   "source": [
    "x = accident[[\"WEATHER\",\"SPEEDING\",\"LIGHTCOND\",\"ROADCOND\",\"JUNCTIONTYPE\",\"PERSONCOUNT\",\"VEHCOUNT\",\"SEVERITYCODE\",\n",
    "            \"PERSONCOUNT_CAT\",\"VEHCOUNT_CAT\"]].values\n",
    "\n",
    "person = preprocessing.LabelEncoder()\n",
    "person.fit(list(accident[\"PERSONCOUNT_CAT\"].unique()))\n",
    "person_mapping = dict(zip(person.classes_, person.transform(person.classes_)))\n",
    "x[:,8] = person.transform(x[:,8]) \n",
    "\n",
    "veh = preprocessing.LabelEncoder()\n",
    "veh.fit(list(accident[\"VEHCOUNT_CAT\"].unique()))\n",
    "veh_mapping = dict(zip(veh.classes_, veh.transform(veh.classes_)))\n",
    "x[:,9] = veh.transform(x[:,9]) "
   ]
  },
  {
   "cell_type": "code",
   "execution_count": 30,
   "metadata": {},
   "outputs": [
    {
     "data": {
      "text/html": [
       "<div>\n",
       "<style scoped>\n",
       "    .dataframe tbody tr th:only-of-type {\n",
       "        vertical-align: middle;\n",
       "    }\n",
       "\n",
       "    .dataframe tbody tr th {\n",
       "        vertical-align: top;\n",
       "    }\n",
       "\n",
       "    .dataframe thead th {\n",
       "        text-align: right;\n",
       "    }\n",
       "</style>\n",
       "<table border=\"1\" class=\"dataframe\">\n",
       "  <thead>\n",
       "    <tr style=\"text-align: right;\">\n",
       "      <th></th>\n",
       "      <th>WEATHER</th>\n",
       "      <th>SPEEDING</th>\n",
       "      <th>LIGHTCOND</th>\n",
       "      <th>ROADCOND</th>\n",
       "      <th>JUNCTIONTYPE</th>\n",
       "      <th>SEVERITYCODE</th>\n",
       "      <th>PERSONCOUNT</th>\n",
       "      <th>VEHCOUNT</th>\n",
       "    </tr>\n",
       "  </thead>\n",
       "  <tbody>\n",
       "    <tr>\n",
       "      <th>0</th>\n",
       "      <td>2</td>\n",
       "      <td>0</td>\n",
       "      <td>5</td>\n",
       "      <td>0</td>\n",
       "      <td>1</td>\n",
       "      <td>2</td>\n",
       "      <td>0</td>\n",
       "      <td>0</td>\n",
       "    </tr>\n",
       "    <tr>\n",
       "      <th>1</th>\n",
       "      <td>6</td>\n",
       "      <td>0</td>\n",
       "      <td>2</td>\n",
       "      <td>7</td>\n",
       "      <td>1</td>\n",
       "      <td>2</td>\n",
       "      <td>2</td>\n",
       "      <td>2</td>\n",
       "    </tr>\n",
       "    <tr>\n",
       "      <th>2</th>\n",
       "      <td>2</td>\n",
       "      <td>0</td>\n",
       "      <td>5</td>\n",
       "      <td>0</td>\n",
       "      <td>4</td>\n",
       "      <td>1</td>\n",
       "      <td>2</td>\n",
       "      <td>2</td>\n",
       "    </tr>\n",
       "    <tr>\n",
       "      <th>3</th>\n",
       "      <td>6</td>\n",
       "      <td>0</td>\n",
       "      <td>2</td>\n",
       "      <td>7</td>\n",
       "      <td>1</td>\n",
       "      <td>1</td>\n",
       "      <td>0</td>\n",
       "      <td>0</td>\n",
       "    </tr>\n",
       "    <tr>\n",
       "      <th>4</th>\n",
       "      <td>2</td>\n",
       "      <td>0</td>\n",
       "      <td>5</td>\n",
       "      <td>0</td>\n",
       "      <td>3</td>\n",
       "      <td>0</td>\n",
       "      <td>0</td>\n",
       "      <td>0</td>\n",
       "    </tr>\n",
       "  </tbody>\n",
       "</table>\n",
       "</div>"
      ],
      "text/plain": [
       "  WEATHER SPEEDING LIGHTCOND ROADCOND JUNCTIONTYPE SEVERITYCODE PERSONCOUNT  \\\n",
       "0       2        0         5        0            1            2           0   \n",
       "1       6        0         2        7            1            2           2   \n",
       "2       2        0         5        0            4            1           2   \n",
       "3       6        0         2        7            1            1           0   \n",
       "4       2        0         5        0            3            0           0   \n",
       "\n",
       "  VEHCOUNT  \n",
       "0        0  \n",
       "1        2  \n",
       "2        2  \n",
       "3        0  \n",
       "4        0  "
      ]
     },
     "execution_count": 30,
     "metadata": {},
     "output_type": "execute_result"
    }
   ],
   "source": [
    "accident = pd.DataFrame(x)\n",
    "accident.columns = [\"WEATHER\",\"SPEEDING\",\"LIGHTCOND\",\"ROADCOND\",\"JUNCTIONTYPE\",\"PERSONCOUNT\",\"VEHCOUNT\",\"SEVERITYCODE\",\n",
    "                   \"PERSONCOUNT_CAT\",\"VEHCOUNT_CAT\"]\n",
    "accident.drop(['PERSONCOUNT','VEHCOUNT'], axis=1, inplace=True)\n",
    "accident.rename(columns={'PERSONCOUNT_CAT': 'PERSONCOUNT', 'VEHCOUNT_CAT': 'VEHCOUNT'}, inplace=True)\n",
    "accident.head()"
   ]
  },
  {
   "cell_type": "code",
   "execution_count": 31,
   "metadata": {},
   "outputs": [
    {
     "name": "stdout",
     "output_type": "stream",
     "text": [
      "SHAPE 0:  (21623, 8)\n",
      "SHAPE 1:  (136587, 8)\n",
      "SHAPE 2:  (58524, 8)\n",
      "SHAPE 3:  (3088, 8)\n",
      "SHAPE 4:  (346, 8)\n"
     ]
    }
   ],
   "source": [
    "accident_0 = accident[accident.SEVERITYCODE == '0']\n",
    "accident_1 = accident[accident.SEVERITYCODE == '1']\n",
    "accident_2 = accident[accident.SEVERITYCODE == '2']\n",
    "accident_3 = accident[accident.SEVERITYCODE == '3']\n",
    "accident_4 = accident[accident.SEVERITYCODE == '4']\n",
    "print(\"SHAPE 0: \",accident_0.shape)\n",
    "print(\"SHAPE 1: \",accident_1.shape)\n",
    "print(\"SHAPE 2: \",accident_2.shape)\n",
    "print(\"SHAPE 3: \",accident_3.shape)\n",
    "print(\"SHAPE 4: \",accident_4.shape)"
   ]
  },
  {
   "cell_type": "code",
   "execution_count": 32,
   "metadata": {},
   "outputs": [
    {
     "name": "stdout",
     "output_type": "stream",
     "text": [
      "The shape of the upsample dataframe is :  (108115, 8)\n"
     ]
    }
   ],
   "source": [
    "maj_class =accident_0.shape[0]\n",
    "\n",
    "accident_1_upsampled = resample(accident_1,replace=True,n_samples=maj_class,random_state=123) \n",
    "\n",
    "accident_2_upsampled = resample(accident_2,replace=True,n_samples=maj_class,random_state=123) \n",
    "\n",
    "accident_3_upsampled = resample(accident_3,replace=True,n_samples=maj_class,random_state=123) \n",
    "\n",
    "accident_4_upsampled = resample(accident_4,replace=True,n_samples=maj_class,random_state=123) \n",
    "\n",
    "accident_upsampled = pd.concat([accident_1_upsampled, accident_0, accident_2_upsampled, accident_3_upsampled, accident_4_upsampled])\n",
    "\n",
    "print(\"The shape of the upsample dataframe is : \",accident_upsampled.shape)"
   ]
  },
  {
   "cell_type": "code",
   "execution_count": 33,
   "metadata": {},
   "outputs": [
    {
     "data": {
      "text/html": [
       "<div>\n",
       "<style scoped>\n",
       "    .dataframe tbody tr th:only-of-type {\n",
       "        vertical-align: middle;\n",
       "    }\n",
       "\n",
       "    .dataframe tbody tr th {\n",
       "        vertical-align: top;\n",
       "    }\n",
       "\n",
       "    .dataframe thead th {\n",
       "        text-align: right;\n",
       "    }\n",
       "</style>\n",
       "<table border=\"1\" class=\"dataframe\">\n",
       "  <thead>\n",
       "    <tr style=\"text-align: right;\">\n",
       "      <th></th>\n",
       "      <th>WEATHER</th>\n",
       "      <th>SPEEDING</th>\n",
       "      <th>LIGHTCOND</th>\n",
       "      <th>ROADCOND</th>\n",
       "      <th>JUNCTIONTYPE</th>\n",
       "      <th>SEVERITYCODE</th>\n",
       "      <th>PERSONCOUNT</th>\n",
       "      <th>VEHCOUNT</th>\n",
       "    </tr>\n",
       "  </thead>\n",
       "  <tbody>\n",
       "    <tr>\n",
       "      <th>0</th>\n",
       "      <td>2</td>\n",
       "      <td>0</td>\n",
       "      <td>5</td>\n",
       "      <td>0</td>\n",
       "      <td>4</td>\n",
       "      <td>1</td>\n",
       "      <td>1</td>\n",
       "      <td>1</td>\n",
       "    </tr>\n",
       "    <tr>\n",
       "      <th>1</th>\n",
       "      <td>2</td>\n",
       "      <td>0</td>\n",
       "      <td>5</td>\n",
       "      <td>0</td>\n",
       "      <td>4</td>\n",
       "      <td>1</td>\n",
       "      <td>0</td>\n",
       "      <td>0</td>\n",
       "    </tr>\n",
       "    <tr>\n",
       "      <th>2</th>\n",
       "      <td>2</td>\n",
       "      <td>0</td>\n",
       "      <td>2</td>\n",
       "      <td>0</td>\n",
       "      <td>4</td>\n",
       "      <td>1</td>\n",
       "      <td>0</td>\n",
       "      <td>0</td>\n",
       "    </tr>\n",
       "    <tr>\n",
       "      <th>3</th>\n",
       "      <td>2</td>\n",
       "      <td>0</td>\n",
       "      <td>5</td>\n",
       "      <td>7</td>\n",
       "      <td>4</td>\n",
       "      <td>1</td>\n",
       "      <td>0</td>\n",
       "      <td>0</td>\n",
       "    </tr>\n",
       "    <tr>\n",
       "      <th>4</th>\n",
       "      <td>4</td>\n",
       "      <td>0</td>\n",
       "      <td>5</td>\n",
       "      <td>0</td>\n",
       "      <td>1</td>\n",
       "      <td>1</td>\n",
       "      <td>0</td>\n",
       "      <td>0</td>\n",
       "    </tr>\n",
       "  </tbody>\n",
       "</table>\n",
       "</div>"
      ],
      "text/plain": [
       "  WEATHER SPEEDING LIGHTCOND ROADCOND JUNCTIONTYPE SEVERITYCODE PERSONCOUNT  \\\n",
       "0       2        0         5        0            4            1           1   \n",
       "1       2        0         5        0            4            1           0   \n",
       "2       2        0         2        0            4            1           0   \n",
       "3       2        0         5        7            4            1           0   \n",
       "4       4        0         5        0            1            1           0   \n",
       "\n",
       "  VEHCOUNT  \n",
       "0        1  \n",
       "1        0  \n",
       "2        0  \n",
       "3        0  \n",
       "4        0  "
      ]
     },
     "execution_count": 33,
     "metadata": {},
     "output_type": "execute_result"
    }
   ],
   "source": [
    "accident_upsampled.reset_index(inplace = True,drop=True) \n",
    "accident_upsampled.head()"
   ]
  },
  {
   "cell_type": "markdown",
   "metadata": {},
   "source": [
    "training and testing dataset"
   ]
  },
  {
   "cell_type": "code",
   "execution_count": 34,
   "metadata": {},
   "outputs": [],
   "source": [
    "X = accident_upsampled[[\"WEATHER\",\"SPEEDING\",\"LIGHTCOND\",\"ROADCOND\",\"JUNCTIONTYPE\",\"PERSONCOUNT\",\"VEHCOUNT\"]].values\n",
    "Y = accident_upsampled[\"SEVERITYCODE\"]\n",
    "x_train, x_test, y_train, y_test = train_test_split(X, Y, test_size=0.3, random_state=3)"
   ]
  },
  {
   "cell_type": "markdown",
   "metadata": {},
   "source": [
    "Now the models"
   ]
  },
  {
   "cell_type": "code",
   "execution_count": 35,
   "metadata": {},
   "outputs": [],
   "source": [
    "from sklearn.neighbors import KNeighborsClassifier\n",
    "from sklearn import metrics\n",
    "from sklearn.linear_model import LogisticRegression\n",
    "from sklearn.metrics import confusion_matrix\n",
    "from sklearn.metrics import f1_score\n",
    "from sklearn.metrics import classification_report, confusion_matrix\n",
    "import itertools\n",
    "from sklearn import svm"
   ]
  },
  {
   "cell_type": "code",
   "execution_count": 36,
   "metadata": {},
   "outputs": [],
   "source": [
    "def plot_confusion_matrix(cm, classes,\n",
    "                          normalize=False,\n",
    "                          title='Confusion matrix',\n",
    "                          cmap=plt.cm.Blues):\n",
    "    \"\"\"\n",
    "    This function prints and plots the confusion matrix.\n",
    "    Normalization can be applied by setting `normalize=True`.\n",
    "    \"\"\"\n",
    "    if normalize:\n",
    "        cm = cm.astype('float') / cm.sum(axis=1)[:, np.newaxis]\n",
    "        print(\"Normalized confusion matrix\")\n",
    "    else:\n",
    "        print('Confusion matrix, without normalization')\n",
    "\n",
    "    print(cm)\n",
    "\n",
    "    plt.imshow(cm, interpolation='nearest', cmap=cmap)\n",
    "    plt.title(title)\n",
    "    plt.colorbar()\n",
    "    tick_marks = np.arange(len(classes))\n",
    "    plt.xticks(tick_marks, classes, rotation=45)\n",
    "    plt.yticks(tick_marks, classes)\n",
    "\n",
    "    fmt = '.2f' if normalize else 'd'\n",
    "    thresh = cm.max() / 2.\n",
    "    for i, j in itertools.product(range(cm.shape[0]), range(cm.shape[1])):\n",
    "        plt.text(j, i, format(cm[i, j], fmt),\n",
    "                 horizontalalignment=\"center\",\n",
    "                 color=\"white\" if cm[i, j] > thresh else \"black\")\n",
    "\n",
    "    plt.tight_layout()\n",
    "    plt.ylabel('True label')\n",
    "    plt.xlabel('Predicted label')"
   ]
  },
  {
   "cell_type": "markdown",
   "metadata": {},
   "source": [
    "K nearest Neigbor"
   ]
  },
  {
   "cell_type": "code",
   "execution_count": 37,
   "metadata": {},
   "outputs": [
    {
     "name": "stdout",
     "output_type": "stream",
     "text": [
      "Train set Accuracy:  0.41885570824524315\n",
      "Test set Accuracy:  0.411993217203638\n"
     ]
    }
   ],
   "source": [
    "k = 8\n",
    "neigh = KNeighborsClassifier(n_neighbors = k).fit(x_train,y_train)\n",
    "yhat_knn = neigh.predict(x_test)\n",
    "print(\"Train set Accuracy: \", metrics.accuracy_score(y_train, neigh.predict(x_train)))\n",
    "print(\"Test set Accuracy: \", metrics.accuracy_score(y_test, yhat_knn))"
   ]
  },
  {
   "cell_type": "code",
   "execution_count": 38,
   "metadata": {},
   "outputs": [
    {
     "name": "stdout",
     "output_type": "stream",
     "text": [
      "Confusion matrix, without normalization\n",
      "[[2813 1165 1436  509  497]\n",
      " [1098 1702 2161  867  697]\n",
      " [1018 1167 2532  986  746]\n",
      " [ 758 1085 1662 1227 1850]\n",
      " [   1    0 1202  167 5089]]\n"
     ]
    },
    {
     "data": {
      "image/png": "[encoded data removed]",
      "text/plain": [
       "<Figure size 432x288 with 2 Axes>"
      ]
     },
     "metadata": {
      "needs_background": "light"
     },
     "output_type": "display_data"
    }
   ],
   "source": [
    "# Compute confusion matrix\n",
    "cnf_matrix = confusion_matrix(y_test, yhat_knn, labels=[\"4\",\"3\",\"2\",\"1\",\"0\"])\n",
    "np.set_printoptions(precision=2)\n",
    "plt.figure()\n",
    "plot_confusion_matrix(cnf_matrix, classes=[\"4\",\"3\",\"2\",\"1\",\"0\"],normalize= False,  title='Confusion matrix')"
   ]
  },
  {
   "cell_type": "markdown",
   "metadata": {},
   "source": [
    "logistic regression"
   ]
  },
  {
   "cell_type": "code",
   "execution_count": 39,
   "metadata": {},
   "outputs": [
    {
     "name": "stderr",
     "output_type": "stream",
     "text": [
      "/home/jupyterlab/conda/envs/python/lib/python3.6/site-packages/sklearn/linear_model/logistic.py:460: FutureWarning: Default multi_class will be changed to 'auto' in 0.22. Specify the multi_class option to silence this warning.\n",
      "  \"this warning.\", FutureWarning)\n"
     ]
    },
    {
     "data": {
      "text/plain": [
       "0.40832434098967163"
      ]
     },
     "execution_count": 39,
     "metadata": {},
     "output_type": "execute_result"
    }
   ],
   "source": [
    "lr = LogisticRegression(C=0.01, solver='liblinear').fit(x_train,y_train)\n",
    "yhat_lr = lr.predict(x_test)\n",
    "yhat_prob_lr = lr.predict_proba(x_test)\n",
    "metrics.accuracy_score(y_test, yhat_lr)"
   ]
  },
  {
   "cell_type": "code",
   "execution_count": 40,
   "metadata": {},
   "outputs": [
    {
     "name": "stdout",
     "output_type": "stream",
     "text": [
      "Confusion matrix, without normalization\n",
      "[[2522  205 1245 1063 1385]\n",
      " [1570  413 1596 1081 1865]\n",
      " [1063  340 2270 1054 1722]\n",
      " [ 815  253 1232 1703 2579]\n",
      " [   0  117    3    3 6336]]\n"
     ]
    },
    {
     "data": {
      "image/png": "[encoded data removed]",
      "text/plain": [
       "<Figure size 432x288 with 2 Axes>"
      ]
     },
     "metadata": {
      "needs_background": "light"
     },
     "output_type": "display_data"
    }
   ],
   "source": [
    "# Compute confusion matrix\n",
    "cnf_matrix = confusion_matrix(y_test, yhat_lr, labels=[\"4\",\"3\",\"2\",\"1\",\"0\"])\n",
    "np.set_printoptions(precision=2)\n",
    "plt.figure()\n",
    "plot_confusion_matrix(cnf_matrix, classes=[\"4\",\"3\",\"2\",\"1\",\"0\"],normalize= False,  title='Confusion matrix')"
   ]
  },
  {
   "cell_type": "markdown",
   "metadata": {},
   "source": [
    "support vector machine"
   ]
  },
  {
   "cell_type": "code",
   "execution_count": 41,
   "metadata": {},
   "outputs": [
    {
     "name": "stderr",
     "output_type": "stream",
     "text": [
      "/home/jupyterlab/conda/envs/python/lib/python3.6/site-packages/sklearn/svm/base.py:196: FutureWarning: The default value of gamma will change from 'auto' to 'scale' in version 0.22 to account better for unscaled features. Set gamma explicitly to 'auto' or 'scale' to avoid this warning.\n",
      "  \"avoid this warning.\", FutureWarning)\n"
     ]
    },
    {
     "data": {
      "text/plain": [
       "SVC(C=1.0, cache_size=200, class_weight=None, coef0=0.0,\n",
       "  decision_function_shape='ovr', degree=3, gamma='auto_deprecated',\n",
       "  kernel='rbf', max_iter=-1, probability=False, random_state=None,\n",
       "  shrinking=True, tol=0.001, verbose=False)"
      ]
     },
     "execution_count": 41,
     "metadata": {},
     "output_type": "execute_result"
    }
   ],
   "source": [
    "clf = svm.SVC(kernel='rbf')\n",
    "clf.fit(x_train, y_train)"
   ]
  },
  {
   "cell_type": "code",
   "execution_count": 42,
   "metadata": {},
   "outputs": [],
   "source": [
    "yhat_svm = clf.predict(x_test)"
   ]
  },
  {
   "cell_type": "code",
   "execution_count": 43,
   "metadata": {},
   "outputs": [
    {
     "name": "stdout",
     "output_type": "stream",
     "text": [
      "Confusion matrix, without normalization\n",
      "[[3222  171 1137  546 1344]\n",
      " [1408  731 1938  674 1774]\n",
      " [ 958  372 2724  714 1681]\n",
      " [ 896  263 1659 1264 2500]\n",
      " [   0    0    6    0 6453]]\n"
     ]
    },
    {
     "data": {
      "image/png": "[encoded data removed]",
      "text/plain": [
       "<Figure size 432x288 with 2 Axes>"
      ]
     },
     "metadata": {
      "needs_background": "light"
     },
     "output_type": "display_data"
    }
   ],
   "source": [
    "# Compute confusion matrix\n",
    "cnf_matrix = confusion_matrix(y_test, yhat_svm, labels=[\"4\",\"3\",\"2\",\"1\",\"0\"])\n",
    "np.set_printoptions(precision=2)\n",
    "plt.figure()\n",
    "plot_confusion_matrix(cnf_matrix, classes=[\"4\",\"3\",\"2\",\"1\",\"0\"],normalize= False,  title='Confusion matrix')"
   ]
  },
  {
   "cell_type": "markdown",
   "metadata": {},
   "source": [
    "<h2>Evaluation/Result</h2>"
   ]
  },
  {
   "cell_type": "code",
   "execution_count": 44,
   "metadata": {},
   "outputs": [],
   "source": [
    "knn_score = metrics.accuracy_score(y_test, yhat_knn)\n",
    "logreg_score = metrics.accuracy_score(y_test, yhat_lr)\n",
    "svm_score = metrics.accuracy_score(y_test, yhat_svm)"
   ]
  },
  {
   "cell_type": "code",
   "execution_count": 45,
   "metadata": {},
   "outputs": [],
   "source": [
    "knn_f1 = f1_score(y_test, yhat_knn, average='weighted')\n",
    "logreg_f1 = f1_score(y_test, yhat_lr, average='weighted')\n",
    "svm_f1 = f1_score(y_test, yhat_svm, average='weighted')"
   ]
  },
  {
   "cell_type": "code",
   "execution_count": 47,
   "metadata": {},
   "outputs": [
    {
     "data": {
      "text/html": [
       "<div>\n",
       "<style scoped>\n",
       "    .dataframe tbody tr th:only-of-type {\n",
       "        vertical-align: middle;\n",
       "    }\n",
       "\n",
       "    .dataframe tbody tr th {\n",
       "        vertical-align: top;\n",
       "    }\n",
       "\n",
       "    .dataframe thead th {\n",
       "        text-align: right;\n",
       "    }\n",
       "</style>\n",
       "<table border=\"1\" class=\"dataframe\">\n",
       "  <thead>\n",
       "    <tr style=\"text-align: right;\">\n",
       "      <th></th>\n",
       "      <th>Score</th>\n",
       "      <th>F1 Score</th>\n",
       "    </tr>\n",
       "  </thead>\n",
       "  <tbody>\n",
       "    <tr>\n",
       "      <th>KNN</th>\n",
       "      <td>0.412</td>\n",
       "      <td>0.396</td>\n",
       "    </tr>\n",
       "    <tr>\n",
       "      <th>Logistic Regression</th>\n",
       "      <td>0.408</td>\n",
       "      <td>0.356</td>\n",
       "    </tr>\n",
       "    <tr>\n",
       "      <th>SVM</th>\n",
       "      <td>0.444</td>\n",
       "      <td>0.393</td>\n",
       "    </tr>\n",
       "  </tbody>\n",
       "</table>\n",
       "</div>"
      ],
      "text/plain": [
       "                     Score F1 Score\n",
       "KNN                  0.412    0.396\n",
       "Logistic Regression  0.408    0.356\n",
       "SVM                  0.444    0.393"
      ]
     },
     "execution_count": 47,
     "metadata": {},
     "output_type": "execute_result"
    }
   ],
   "source": [
    "acc_df =pd.DataFrame(columns = [\"Score\",\"F1 Score\"],index =[\"KNN\",\"Logistic Regression\",\"SVM\"])\n",
    "acc_df.loc[\"KNN\",\"Score\"] =knn_score.round(3)\n",
    "acc_df.loc[\"KNN\",\"F1 Score\"] =knn_f1.round(3)\n",
    "acc_df.loc[\"Logistic Regression\",\"Score\"] =logreg_score.round(3)\n",
    "acc_df.loc[\"Logistic Regression\",\"F1 Score\"] =logreg_f1.round(3)\n",
    "acc_df.loc[\"SVM\",\"Score\"] = svm_score.round(3)\n",
    "acc_df.loc[\"SVM\",\"F1 Score\"] = svm_f1.round(3)\n",
    "acc_df"
   ]
  },
  {
   "cell_type": "markdown",
   "metadata": {},
   "source": [
    "<h2>Discussion</h2>"
   ]
  },
  {
   "cell_type": "markdown",
   "metadata": {},
   "source": [
    "After training three different models, the k nearnest neigbor had an accuracy of 41.2% and an F1 score of 0.396, the Logistic regression model had an accuracy of 40.8% and an F1 score of 0.356 while the SVM had an accuracy of 44.4% and an F1 score of 0.393"
   ]
  },
  {
   "cell_type": "markdown",
   "metadata": {},
   "source": [
    "<h2>Conclusion<h2>"
   ]
  },
  {
   "cell_type": "markdown",
   "metadata": {},
   "source": [
    "The models trained above are a way of predicting whether or not the will be a collision on a certain day given the conditions.for cases where there will be collision, the model goes further to predict how severe the collision would be. This model is great and useful to a lot of people."
   ]
  },
  {
   "cell_type": "code",
   "execution_count": null,
   "metadata": {},
   "outputs": [],
   "source": []
  }
 ],
 "metadata": {
  "kernelspec": {
   "display_name": "Python",
   "language": "python",
   "name": "conda-env-python-py"
  },
  "language_info": {
   "codemirror_mode": {
    "name": "ipython",
    "version": 3
   },
   "file_extension": ".py",
   "mimetype": "text/x-python",
   "name": "python",
   "nbconvert_exporter": "python",
   "pygments_lexer": "ipython3",
   "version": "3.6.11"
  }
 },
 "nbformat": 4,
 "nbformat_minor": 4
}
